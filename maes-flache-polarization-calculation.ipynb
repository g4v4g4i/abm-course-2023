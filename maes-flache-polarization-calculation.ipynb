{
 "cells": [
  {
   "cell_type": "markdown",
   "id": "b48288eb",
   "metadata": {},
   "source": [
    "# Measuring the polarization level of an opinion vector\n",
    "\n",
    "Mäs and Flache (2013) describe their measure of the polarization of the opinions of a society of agents as follows:\n",
    "\n",
    "*the degree of bi-polarization was \n",
    "measured with the standard deviation of the distribution of\n",
    "pairwise opinion distances between all pairs of agents in the\n",
    "population.*\n",
    "\n",
    "That's a mouthfull. Let's try to understand this step by step.\n",
    "\n",
    "Assume we have the following 3 opinion vectors and we'd like to calculate the level to which these societies are polarized!"
   ]
  },
  {
   "cell_type": "code",
   "execution_count": 11,
   "id": "64e0ecd4",
   "metadata": {},
   "outputs": [
    {
     "name": "stdout",
     "output_type": "stream",
     "text": [
      "soc1 = Rational{Int64}[-1//5, -1//10, 1//10, 1//5]\n",
      "soc2 = Rational{Int64}[-1//5, -1//5, 1//5, 1//5]\n",
      "soc3 = [1, 1, 1, 1]\n"
     ]
    }
   ],
   "source": [
    "using Statistics\n",
    "soc1 = [-2//10,-1//10,1//10,2//10]\n",
    "# soc1 = [-1,-1,1,1]\n",
    "soc2 = [-2//10,-2//10,2//10,2//10]\n",
    "# soc3 = [-1//10,-1//10, 1//10, 1//10]\n",
    "soc3 = [1,1,1,1]\n",
    "println(\"soc1 = \", soc1)\n",
    "println(\"soc2 = \", soc2)\n",
    "println(\"soc3 = \", soc3)"
   ]
  },
  {
   "cell_type": "markdown",
   "id": "e1c7038f",
   "metadata": {},
   "source": [
    "We first calculate the distance between all pairs of different agents. We'll use a function for this."
   ]
  },
  {
   "cell_type": "code",
   "execution_count": 12,
   "id": "45067048",
   "metadata": {},
   "outputs": [
    {
     "data": {
      "text/plain": [
       "dist_vector (generic function with 1 method)"
      ]
     },
     "execution_count": 12,
     "metadata": {},
     "output_type": "execute_result"
    }
   ],
   "source": [
    "function dist_vector(vec)    # vec is a opinion-vector\n",
    "    n = length(vec)\n",
    "    j = 0\n",
    "    for i=1:n-1    # there are n+n-1+...+1 many pairs of different agents\n",
    "        j = j+i\n",
    "    end\n",
    "    dvec = zeros(j)          # dvec contains all opinion-differences\n",
    "    k = 0\n",
    "    for i = 1:n-1\n",
    "        for j = (i+1):n\n",
    "            k += 1\n",
    "            dvec[k] = abs(vec[i]-vec[j])\n",
    "        end\n",
    "    end\n",
    "    return dvec\n",
    "end\n",
    "\n",
    "# alternatively one could define a nxn-matrix M such that\n",
    "# M[i,j] contains the difference in opinion between i and j\n",
    "# Note that the matrix would be symmetric."
   ]
  },
  {
   "cell_type": "markdown",
   "id": "4eb253e8",
   "metadata": {},
   "source": [
    "Let's see what we get for our first opinion vector."
   ]
  },
  {
   "cell_type": "code",
   "execution_count": 10,
   "id": "68e6b2f6",
   "metadata": {},
   "outputs": [
    {
     "name": "stdout",
     "output_type": "stream",
     "text": [
      "soc1d = [0.1, 0.3, 0.4, 0.2, 0.3, 0.1]\n",
      "soc2d = [0.0, 0.4, 0.4, 0.4, 0.4, 0.0]\n",
      "soc3d = [0.0, 0.0, 0.0, 0.0, 0.0, 0.0]\n"
     ]
    }
   ],
   "source": [
    "soc1d = dist_vector(soc1)\n",
    "soc2d = dist_vector(soc2)\n",
    "soc3d = dist_vector(soc3)\n",
    "println(\"soc1d = \", soc1d)\n",
    "println(\"soc2d = \", soc2d)\n",
    "println(\"soc3d = \", soc3d)"
   ]
  },
  {
   "cell_type": "markdown",
   "id": "a9da938e",
   "metadata": {},
   "source": [
    "We now calculate the average distance between two agents (for our three populations)."
   ]
  },
  {
   "cell_type": "code",
   "execution_count": 9,
   "id": "1f298025",
   "metadata": {},
   "outputs": [
    {
     "name": "stdout",
     "output_type": "stream",
     "text": [
      "m1 = 0.23333333333333336\n",
      "m2 = 0.26666666666666666\n",
      "m3 = 0.0\n"
     ]
    }
   ],
   "source": [
    "m1 = mean(soc1d)\n",
    "m2 = mean(soc2d)\n",
    "m3 = mean(soc3d)\n",
    "println(\"m1 = \", m1)\n",
    "println(\"m2 = \", m2)\n",
    "println(\"m3 = \", m3)"
   ]
  },
  {
   "cell_type": "markdown",
   "id": "9d521bbf",
   "metadata": {},
   "source": [
    "Next, we calculate for each pair-wise distance value, how far it deviates from the average."
   ]
  },
  {
   "cell_type": "code",
   "execution_count": 14,
   "id": "4959ecc4",
   "metadata": {},
   "outputs": [
    {
     "data": {
      "text/plain": [
       "dist_to_mean (generic function with 2 methods)"
      ]
     },
     "execution_count": 14,
     "metadata": {},
     "output_type": "execute_result"
    }
   ],
   "source": [
    "function dist_to_mean(vec)   # vec is a distance-option vector\n",
    "    n = length(vec)\n",
    "    m = mean(vec)\n",
    "    dist_mean_vect = zeros(n)\n",
    "        \n",
    "    for i=1:n\n",
    "        dist_mean_vect[i] = (vec[i]-m)^2\n",
    "    end\n",
    "    return dist_mean_vect\n",
    "end"
   ]
  },
  {
   "cell_type": "code",
   "execution_count": 16,
   "id": "f8c47f04",
   "metadata": {},
   "outputs": [
    {
     "name": "stdout",
     "output_type": "stream",
     "text": [
      "[0.017777777777777785, 0.004444444444444438, 0.027777777777777776, 0.0011111111111111124, 0.004444444444444438, 0.017777777777777785]\n",
      "[0.07111111111111111, 0.017777777777777785, 0.017777777777777785, 0.017777777777777785, 0.017777777777777785, 0.07111111111111111]\n",
      "[0.0, 0.0, 0.0, 0.0, 0.0, 0.0]\n"
     ]
    }
   ],
   "source": [
    "dist_mean_vect1 = dist_to_mean(soc1d)\n",
    "dist_mean_vect2 = dist_to_mean(soc2d)\n",
    "dist_mean_vect3 = dist_to_mean(soc3d)\n",
    "println(dist_mean_vect1)\n",
    "println(dist_mean_vect2)\n",
    "println(dist_mean_vect3)"
   ]
  },
  {
   "cell_type": "markdown",
   "id": "aa6dc443",
   "metadata": {},
   "source": [
    "The standard deviation is the squareroot of the mean of these deviation vectors."
   ]
  },
  {
   "cell_type": "code",
   "execution_count": 19,
   "id": "99dc8e78",
   "metadata": {},
   "outputs": [
    {
     "name": "stdout",
     "output_type": "stream",
     "text": [
      "The standard deviation of soc1 = Rational{Int64}[-1//5, -1//10, 1//10, 1//5] is 0.11055415967851333\n",
      "The standard deviation of soc2 = Rational{Int64}[-1//5, -1//5, 1//5, 1//5] is 0.1885618083164127\n",
      "The standard deviation of soc3 = [1, 1, 1, 1] is 0.0\n"
     ]
    }
   ],
   "source": [
    "sd1 = sqrt(mean(dist_mean_vect1))\n",
    "sd2 = sqrt(mean(dist_mean_vect2))\n",
    "sd3 = sqrt(mean(dist_mean_vect3))\n",
    "println(\"The standard deviation of soc1 = \", soc1, \" is \", sd1)\n",
    "println(\"The standard deviation of soc2 = \", soc2, \" is \", sd2)\n",
    "println(\"The standard deviation of soc3 = \", soc3, \" is \", sd3)"
   ]
  },
  {
   "cell_type": "markdown",
   "id": "d2aa9a61",
   "metadata": {},
   "source": [
    "We can put it all in one function, as below. Instead of coding the standard deviation manually, one can also just use the std function from the Statistics package ;-)"
   ]
  },
  {
   "cell_type": "code",
   "execution_count": 23,
   "id": "7c578e1b",
   "metadata": {},
   "outputs": [
    {
     "data": {
      "text/plain": [
       "std_opinion_vector (generic function with 1 method)"
      ]
     },
     "execution_count": 23,
     "metadata": {},
     "output_type": "execute_result"
    }
   ],
   "source": [
    "function std_opinion_vector(vec)\n",
    "    dvec = dist_vector(vec)\n",
    "    return sqrt(mean(dist_to_mean(dvec)))\n",
    "end"
   ]
  },
  {
   "cell_type": "code",
   "execution_count": 25,
   "id": "a95e2a0b",
   "metadata": {},
   "outputs": [
    {
     "data": {
      "text/plain": [
       "0.1885618083164127"
      ]
     },
     "execution_count": 25,
     "metadata": {},
     "output_type": "execute_result"
    }
   ],
   "source": [
    "std_opinion_vector(soc2)"
   ]
  }
 ],
 "metadata": {
  "@webio": {
   "lastCommId": null,
   "lastKernelId": null
  },
  "kernelspec": {
   "display_name": "Julia 1.9.3",
   "language": "julia",
   "name": "julia-1.9"
  },
  "language_info": {
   "file_extension": ".jl",
   "mimetype": "application/julia",
   "name": "julia",
   "version": "1.9.3"
  }
 },
 "nbformat": 4,
 "nbformat_minor": 5
}
