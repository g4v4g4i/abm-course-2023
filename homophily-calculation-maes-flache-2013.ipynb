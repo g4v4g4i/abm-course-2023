{
 "cells": [
  {
   "cell_type": "markdown",
   "id": "889bd58e",
   "metadata": {},
   "source": [
    "# Homophily calculation ala Mäs and Flache 2013\n",
    "\n",
    "Let us analyze how homophily is calculated in Mäs and Flache 2013.\n",
    "\n",
    "The use the following equation to capture similarity:\n",
    "\n",
    "$$ sim_{i,j,t} = \\frac{1}{2} \\cdot (2 - | o_{i,t} - o_{j,t}|) $$\n",
    "\n",
    "On the basis of this they calculate the probability to choose another agent $j$ by:\n",
    "\n",
    "$$ p_{j,t} = \\frac{(sim_{i,j,t})^h}{\\sum_{k\\neq i} (sim_{i,k,t})^h} $$"
   ]
  },
  {
   "cell_type": "code",
   "execution_count": 4,
   "id": "59c5e066",
   "metadata": {},
   "outputs": [
    {
     "data": {
      "text/plain": [
       "sim_prob_ag_vec (generic function with 1 method)"
      ]
     },
     "execution_count": 4,
     "metadata": {},
     "output_type": "execute_result"
    }
   ],
   "source": [
    "function sim_vec(vec,ag)    # this function returns a vector containing \n",
    "                            # the similarity of ag to each member of vec\n",
    "    dvec = zeros(length(vec))\n",
    "        \n",
    "    for i = 1:length(vec)\n",
    "          dvec[i] = 1/2 * (2- abs(vec[ag]-vec[i]))  # this is the formula used \n",
    "                                                    # by Mäs and Flache 2013\n",
    "    end\n",
    "    \n",
    "    return dvec\n",
    "end       \n",
    "\n",
    "function sim_prob_ag(vec,ag1, ag2, hom)  # return the probability that ag1 talks\n",
    "                                         # to ag2 with homomilty hom\n",
    "    dvec = sim_vec(vec,ag1)\n",
    "    return (dvec[ag2]^hom / sum(x->x^hom, dvec))  # this is the probability calculation\n",
    "                                                  # used by Mäs and Flache 2013\n",
    "end\n",
    "\n",
    "function sim_prob_ag_vec(vec,ag,hom)  # return a vector containing the probability of talking\n",
    "                                     # to other agents \n",
    "    n = length(vec)\n",
    "    dvec = zeros(n)\n",
    "    for i=1:n\n",
    "        # if i == ag \n",
    "        #    dvec[i] = 0\n",
    "        # else \n",
    "            dvec[i] = sim_prob_ag(vec,ag,i,hom)\n",
    "        # end\n",
    "    end\n",
    "    return dvec\n",
    "end"
   ]
  },
  {
   "cell_type": "code",
   "execution_count": 5,
   "id": "d624eefa",
   "metadata": {},
   "outputs": [
    {
     "data": {
      "text/plain": [
       "4-element Vector{Float64}:\n",
       " 0.4\n",
       " 0.4\n",
       " 0.1\n",
       " 0.1"
      ]
     },
     "execution_count": 5,
     "metadata": {},
     "output_type": "execute_result"
    }
   ],
   "source": [
    "soc4=[1,1,2,2]\n",
    "sim_prob_ag_vec(soc4, 1, 2)"
   ]
  },
  {
   "cell_type": "markdown",
   "id": "02c1e948",
   "metadata": {},
   "source": [
    "Remark: the model seems not to exclude the possibility of an agent talking to itself.\n",
    "(TODO: check this in the paper.)"
   ]
  },
  {
   "cell_type": "code",
   "execution_count": null,
   "id": "6d112036",
   "metadata": {},
   "outputs": [],
   "source": []
  }
 ],
 "metadata": {
  "kernelspec": {
   "display_name": "Julia 1.9.3",
   "language": "julia",
   "name": "julia-1.9"
  },
  "language_info": {
   "file_extension": ".jl",
   "mimetype": "application/julia",
   "name": "julia",
   "version": "1.9.3"
  }
 },
 "nbformat": 4,
 "nbformat_minor": 5
}
